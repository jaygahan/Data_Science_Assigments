{
 "cells": [
  {
   "cell_type": "code",
   "execution_count": 2,
   "metadata": {},
   "outputs": [],
   "source": [
    "import pandas as pd\n",
    "import matplotlib.pyplot as plt\n",
    "import numpy as np\n"
   ]
  },
  {
   "cell_type": "code",
   "execution_count": 3,
   "metadata": {},
   "outputs": [],
   "source": [
    "import jupyter_dashboards"
   ]
  },
  {
   "cell_type": "code",
   "execution_count": 4,
   "metadata": {},
   "outputs": [
    {
     "name": "stdout",
     "output_type": "stream",
     "text": [
      "Collecting package metadata (current_repodata.json): ...working... done\n",
      "Solving environment: ...working... done\n",
      "\n",
      "# All requested packages already installed.\n",
      "\n",
      "\n",
      "Note: you may need to restart the kernel to use updated packages.\n"
     ]
    }
   ],
   "source": [
    "conda install jupyter_dashboards -c conda-forge"
   ]
  },
  {
   "cell_type": "code",
   "execution_count": 5,
   "metadata": {},
   "outputs": [],
   "source": [
    "df = pd.read_csv(\"googleplaystore.csv\")"
   ]
  },
  {
   "cell_type": "code",
   "execution_count": 6,
   "metadata": {},
   "outputs": [
    {
     "data": {
      "text/plain": [
       "(10841, 13)"
      ]
     },
     "execution_count": 6,
     "metadata": {},
     "output_type": "execute_result"
    }
   ],
   "source": [
    "df.shape"
   ]
  },
  {
   "cell_type": "code",
   "execution_count": 7,
   "metadata": {},
   "outputs": [
    {
     "name": "stdout",
     "output_type": "stream",
     "text": [
      "                                           App Category  Rating Reviews  \\\n",
      "10472  Life Made WI-Fi Touchscreen Photo Frame      1.9    19.0    3.0M   \n",
      "\n",
      "         Size Installs Type     Price Content Rating             Genres  \\\n",
      "10472  1,000+     Free    0  Everyone            NaN  February 11, 2018   \n",
      "\n",
      "      Last Updated Current Ver Android Ver  \n",
      "10472       1.0.19  4.0 and up         NaN  \n"
     ]
    }
   ],
   "source": [
    "outlier = df[df.Installs == \"Free\"]\n",
    "print(outlier)"
   ]
  },
  {
   "cell_type": "code",
   "execution_count": 8,
   "metadata": {},
   "outputs": [],
   "source": [
    "df= df.drop([10472], axis='rows')\n"
   ]
  },
  {
   "cell_type": "code",
   "execution_count": 9,
   "metadata": {},
   "outputs": [],
   "source": [
    "df['Installs'] = df['Installs'].str.replace(',', '')\n",
    "df['Installs'] = df['Installs'].str.replace('+', '')\n",
    "df['Installs'] = df['Installs'].astype(int)"
   ]
  },
  {
   "cell_type": "code",
   "execution_count": 11,
   "metadata": {},
   "outputs": [
    {
     "data": {
      "text/plain": [
       "(10840, 13)"
      ]
     },
     "execution_count": 11,
     "metadata": {},
     "output_type": "execute_result"
    }
   ],
   "source": [
    "df.shape"
   ]
  },
  {
   "cell_type": "code",
   "execution_count": 12,
   "metadata": {},
   "outputs": [
    {
     "data": {
      "text/html": [
       "<div>\n",
       "<style scoped>\n",
       "    .dataframe tbody tr th:only-of-type {\n",
       "        vertical-align: middle;\n",
       "    }\n",
       "\n",
       "    .dataframe tbody tr th {\n",
       "        vertical-align: top;\n",
       "    }\n",
       "\n",
       "    .dataframe thead th {\n",
       "        text-align: right;\n",
       "    }\n",
       "</style>\n",
       "<table border=\"1\" class=\"dataframe\">\n",
       "  <thead>\n",
       "    <tr style=\"text-align: right;\">\n",
       "      <th></th>\n",
       "      <th>Category</th>\n",
       "      <th>Installs</th>\n",
       "      <th>Content Rating</th>\n",
       "    </tr>\n",
       "  </thead>\n",
       "  <tbody>\n",
       "    <tr>\n",
       "      <th>0</th>\n",
       "      <td>ART_AND_DESIGN</td>\n",
       "      <td>10000</td>\n",
       "      <td>Everyone</td>\n",
       "    </tr>\n",
       "    <tr>\n",
       "      <th>1</th>\n",
       "      <td>ART_AND_DESIGN</td>\n",
       "      <td>500000</td>\n",
       "      <td>Everyone</td>\n",
       "    </tr>\n",
       "    <tr>\n",
       "      <th>2</th>\n",
       "      <td>ART_AND_DESIGN</td>\n",
       "      <td>5000000</td>\n",
       "      <td>Everyone</td>\n",
       "    </tr>\n",
       "    <tr>\n",
       "      <th>3</th>\n",
       "      <td>ART_AND_DESIGN</td>\n",
       "      <td>50000000</td>\n",
       "      <td>Teen</td>\n",
       "    </tr>\n",
       "    <tr>\n",
       "      <th>4</th>\n",
       "      <td>ART_AND_DESIGN</td>\n",
       "      <td>100000</td>\n",
       "      <td>Everyone</td>\n",
       "    </tr>\n",
       "  </tbody>\n",
       "</table>\n",
       "</div>"
      ],
      "text/plain": [
       "         Category  Installs Content Rating\n",
       "0  ART_AND_DESIGN     10000       Everyone\n",
       "1  ART_AND_DESIGN    500000       Everyone\n",
       "2  ART_AND_DESIGN   5000000       Everyone\n",
       "3  ART_AND_DESIGN  50000000           Teen\n",
       "4  ART_AND_DESIGN    100000       Everyone"
      ]
     },
     "execution_count": 12,
     "metadata": {},
     "output_type": "execute_result"
    }
   ],
   "source": [
    "data = pd.concat([df.Category, df.Installs, df[\"Content Rating\"]], axis=1)\n",
    "data.head()"
   ]
  },
  {
   "cell_type": "code",
   "execution_count": 13,
   "metadata": {},
   "outputs": [
    {
     "data": {
      "text/plain": [
       "Category          object\n",
       "Installs           int32\n",
       "Content Rating    object\n",
       "dtype: object"
      ]
     },
     "execution_count": 13,
     "metadata": {},
     "output_type": "execute_result"
    }
   ],
   "source": [
    "data.dtypes\n"
   ]
  },
  {
   "cell_type": "code",
   "execution_count": 14,
   "metadata": {},
   "outputs": [
    {
     "data": {
      "text/plain": [
       "(10840, 3)"
      ]
     },
     "execution_count": 14,
     "metadata": {},
     "output_type": "execute_result"
    }
   ],
   "source": [
    "data.shape"
   ]
  },
  {
   "cell_type": "code",
   "execution_count": 15,
   "metadata": {},
   "outputs": [],
   "source": [
    "data=data.dropna()"
   ]
  },
  {
   "cell_type": "code",
   "execution_count": 16,
   "metadata": {},
   "outputs": [
    {
     "data": {
      "text/plain": [
       "(10840, 3)"
      ]
     },
     "execution_count": 16,
     "metadata": {},
     "output_type": "execute_result"
    }
   ],
   "source": [
    "data.shape"
   ]
  },
  {
   "cell_type": "code",
   "execution_count": 17,
   "metadata": {},
   "outputs": [
    {
     "data": {
      "text/plain": [
       "Everyone           8714\n",
       "Teen               1208\n",
       "Mature 17+          499\n",
       "Everyone 10+        414\n",
       "Adults only 18+       3\n",
       "Unrated               2\n",
       "Name: Content Rating, dtype: int64"
      ]
     },
     "execution_count": 17,
     "metadata": {},
     "output_type": "execute_result"
    }
   ],
   "source": [
    "pd.value_counts(data[\"Content Rating\"])"
   ]
  },
  {
   "cell_type": "code",
   "execution_count": 18,
   "metadata": {},
   "outputs": [
    {
     "data": {
      "text/plain": [
       "array(['Everyone', 'Teen', 'Everyone 10+', 'Mature 17+',\n",
       "       'Adults only 18+', 'Unrated'], dtype=object)"
      ]
     },
     "execution_count": 18,
     "metadata": {},
     "output_type": "execute_result"
    }
   ],
   "source": [
    "data['Content Rating'].unique()"
   ]
  },
  {
   "cell_type": "code",
   "execution_count": 19,
   "metadata": {},
   "outputs": [
    {
     "data": {
      "text/plain": [
       "(10840, 3)"
      ]
     },
     "execution_count": 19,
     "metadata": {},
     "output_type": "execute_result"
    }
   ],
   "source": [
    "data.shape"
   ]
  },
  {
   "cell_type": "code",
   "execution_count": 20,
   "metadata": {},
   "outputs": [
    {
     "name": "stdout",
     "output_type": "stream",
     "text": [
      "                         Installs\n",
      "Category                         \n",
      "ART_AND_DESIGN       1.243381e+08\n",
      "AUTO_AND_VEHICLES    5.313021e+07\n",
      "BEAUTY               2.719705e+07\n",
      "BOOKS_AND_REFERENCE  1.921470e+09\n",
      "BUSINESS             1.001915e+09\n",
      "COMICS               5.608615e+07\n",
      "COMMUNICATION        3.264728e+10\n",
      "DATING               2.643108e+08\n",
      "EDUCATION            8.714520e+08\n",
      "ENTERTAINMENT        2.869160e+09\n",
      "EVENTS               1.597316e+07\n",
      "FAMILY               1.025826e+10\n",
      "FINANCE              8.766487e+08\n",
      "FOOD_AND_DRINK       2.738988e+08\n",
      "GAME                 3.508602e+10\n",
      "HEALTH_AND_FITNESS   1.583073e+09\n",
      "HOUSE_AND_HOME       1.687125e+08\n",
      "LIBRARIES_AND_DEMO   6.299591e+07\n",
      "LIFESTYLE            5.376435e+08\n",
      "MAPS_AND_NAVIGATION  7.242819e+08\n",
      "MEDICAL              5.325744e+07\n",
      "NEWS_AND_MAGAZINES   7.496318e+09\n",
      "PARENTING            3.152111e+07\n",
      "PERSONALIZATION      2.325495e+09\n",
      "PHOTOGRAPHY          1.008825e+10\n",
      "PRODUCTIVITY         1.417609e+10\n",
      "SHOPPING             3.247849e+09\n",
      "SOCIAL               1.406987e+10\n",
      "SPORTS               1.751174e+09\n",
      "TOOLS                1.145277e+10\n",
      "TRAVEL_AND_LOCAL     6.868887e+09\n",
      "VIDEO_PLAYERS        6.222003e+09\n",
      "WEATHER              4.261005e+08\n"
     ]
    }
   ],
   "source": [
    "group = data.groupby([ 'Category']).sum()\n",
    "print(group)"
   ]
  },
  {
   "cell_type": "code",
   "execution_count": null,
   "metadata": {},
   "outputs": [],
   "source": []
  },
  {
   "cell_type": "code",
   "execution_count": 21,
   "metadata": {},
   "outputs": [
    {
     "data": {
      "text/plain": [
       "Installs    1.676334e+11\n",
       "dtype: float64"
      ]
     },
     "execution_count": 21,
     "metadata": {},
     "output_type": "execute_result"
    }
   ],
   "source": [
    "group.sum()"
   ]
  },
  {
   "cell_type": "code",
   "execution_count": 22,
   "metadata": {},
   "outputs": [
    {
     "name": "stdout",
     "output_type": "stream",
     "text": [
      "Content Rating   Category         \n",
      "Adults only 18+  COMICS               1.000000e+06\n",
      "                 SPORTS               1.000000e+06\n",
      "Everyone         ART_AND_DESIGN       6.382810e+07\n",
      "                 AUTO_AND_VEHICLES    4.213021e+07\n",
      "                 BEAUTY               2.671705e+07\n",
      "                                          ...     \n",
      "Teen             TRAVEL_AND_LOCAL     2.160005e+07\n",
      "                 VIDEO_PLAYERS        3.496156e+09\n",
      "                 WEATHER              6.000000e+05\n",
      "Unrated          FAMILY               5.000000e+02\n",
      "                 TOOLS                5.000000e+04\n",
      "Name: Installs, Length: 118, dtype: float64\n"
     ]
    }
   ],
   "source": [
    "groups = data.groupby(by=['Content Rating','Category']).agg('Installs').sum()\n",
    "\n",
    "print(groups)"
   ]
  },
  {
   "cell_type": "code",
   "execution_count": 23,
   "metadata": {},
   "outputs": [
    {
     "name": "stdout",
     "output_type": "stream",
     "text": [
      "                Category  Installs   Content Rating\n",
      "6424              COMICS    500000  Adults only 18+\n",
      "298               COMICS    500000  Adults only 18+\n",
      "3043              SPORTS   1000000  Adults only 18+\n",
      "0         ART_AND_DESIGN     10000         Everyone\n",
      "6893  HEALTH_AND_FITNESS        50         Everyone\n",
      "...                  ...       ...              ...\n",
      "1022              EVENTS       500             Teen\n",
      "9576              FAMILY   5000000             Teen\n",
      "899        ENTERTAINMENT  10000000             Teen\n",
      "8266               TOOLS     50000          Unrated\n",
      "7312              FAMILY       500          Unrated\n",
      "\n",
      "[10840 rows x 3 columns]\n"
     ]
    }
   ],
   "source": [
    "sorted=data.sort_values(['Content Rating'])\n",
    "print(sorted)"
   ]
  },
  {
   "cell_type": "code",
   "execution_count": 24,
   "metadata": {},
   "outputs": [
    {
     "name": "stdout",
     "output_type": "stream",
     "text": [
      "Content Rating   Category         \n",
      "Adults only 18+  COMICS               1.000000e+06\n",
      "                 SPORTS               1.000000e+06\n",
      "Everyone         ART_AND_DESIGN       6.382810e+07\n",
      "                 AUTO_AND_VEHICLES    4.213021e+07\n",
      "                 BEAUTY               2.671705e+07\n",
      "                                          ...     \n",
      "Teen             TRAVEL_AND_LOCAL     2.160005e+07\n",
      "                 VIDEO_PLAYERS        3.496156e+09\n",
      "                 WEATHER              6.000000e+05\n",
      "Unrated          FAMILY               5.000000e+02\n",
      "                 TOOLS                5.000000e+04\n",
      "Name: Installs, Length: 118, dtype: float64\n"
     ]
    }
   ],
   "source": [
    "groups = sorted.groupby(by=['Content Rating','Category']).agg('Installs').sum()\n",
    "\n",
    "print(groups)"
   ]
  },
  {
   "cell_type": "code",
   "execution_count": 26,
   "metadata": {},
   "outputs": [
    {
     "data": {
      "image/png": "[encoded data removed]",
      "text/plain": [
       "<Figure size 432x288 with 1 Axes>"
      ]
     },
     "metadata": {
      "needs_background": "light"
     },
     "output_type": "display_data"
    }
   ],
   "source": [
    "fig, ax = plt.subplots()\n",
    "\n",
    "for key, grp in groups.groupby(['Content Rating']):\n",
    "    ax = grp.plot(ax=ax, kind='line', x='Category', y='Installs', label=key)\n",
    "\n",
    "\n",
    "plt.legend(loc='best')\n",
    "plt.show()"
   ]
  },
  {
   "cell_type": "code",
   "execution_count": 29,
   "metadata": {},
   "outputs": [
    {
     "data": {
      "text/plain": [
       "(118,)"
      ]
     },
     "execution_count": 29,
     "metadata": {},
     "output_type": "execute_result"
    }
   ],
   "source": [
    "groups.shape"
   ]
  },
  {
   "cell_type": "code",
   "execution_count": null,
   "metadata": {},
   "outputs": [],
   "source": [
    "data.groupby('Content Rating')"
   ]
  },
  {
   "cell_type": "code",
   "execution_count": 28,
   "metadata": {},
   "outputs": [
    {
     "data": {
      "text/html": [
       "<div>\n",
       "<style scoped>\n",
       "    .dataframe tbody tr th:only-of-type {\n",
       "        vertical-align: middle;\n",
       "    }\n",
       "\n",
       "    .dataframe tbody tr th {\n",
       "        vertical-align: top;\n",
       "    }\n",
       "\n",
       "    .dataframe thead th {\n",
       "        text-align: right;\n",
       "    }\n",
       "</style>\n",
       "<table border=\"1\" class=\"dataframe\">\n",
       "  <thead>\n",
       "    <tr style=\"text-align: right;\">\n",
       "      <th></th>\n",
       "      <th>Installs</th>\n",
       "    </tr>\n",
       "    <tr>\n",
       "      <th>Content Rating</th>\n",
       "      <th></th>\n",
       "    </tr>\n",
       "  </thead>\n",
       "  <tbody>\n",
       "    <tr>\n",
       "      <th>Adults only 18+</th>\n",
       "      <td>2.000000e+06</td>\n",
       "    </tr>\n",
       "    <tr>\n",
       "      <th>Everyone</th>\n",
       "      <td>1.141567e+11</td>\n",
       "    </tr>\n",
       "    <tr>\n",
       "      <th>Everyone 10+</th>\n",
       "      <td>1.323388e+10</td>\n",
       "    </tr>\n",
       "    <tr>\n",
       "      <th>Mature 17+</th>\n",
       "      <td>5.524491e+09</td>\n",
       "    </tr>\n",
       "    <tr>\n",
       "      <th>Teen</th>\n",
       "      <td>3.471635e+10</td>\n",
       "    </tr>\n",
       "    <tr>\n",
       "      <th>Unrated</th>\n",
       "      <td>5.050000e+04</td>\n",
       "    </tr>\n",
       "  </tbody>\n",
       "</table>\n",
       "</div>"
      ],
      "text/plain": [
       "                     Installs\n",
       "Content Rating               \n",
       "Adults only 18+  2.000000e+06\n",
       "Everyone         1.141567e+11\n",
       "Everyone 10+     1.323388e+10\n",
       "Mature 17+       5.524491e+09\n",
       "Teen             3.471635e+10\n",
       "Unrated          5.050000e+04"
      ]
     },
     "execution_count": 28,
     "metadata": {},
     "output_type": "execute_result"
    }
   ],
   "source": [
    "data.groupby('Content Rating').sum()\n",
    "\n"
   ]
  },
  {
   "cell_type": "code",
   "execution_count": null,
   "metadata": {},
   "outputs": [],
   "source": [
    "\n"
   ]
  },
  {
   "cell_type": "code",
   "execution_count": 31,
   "metadata": {},
   "outputs": [],
   "source": [
    "groups.to_csv('Content_Groups.csv')"
   ]
  }
 ],
 "metadata": {
  "kernelspec": {
   "display_name": "Python 3",
   "language": "python",
   "name": "python3"
  },
  "language_info": {
   "codemirror_mode": {
    "name": "ipython",
    "version": 3
   },
   "file_extension": ".py",
   "mimetype": "text/x-python",
   "name": "python",
   "nbconvert_exporter": "python",
   "pygments_lexer": "ipython3",
   "version": "3.7.6"
  }
 },
 "nbformat": 4,
 "nbformat_minor": 4
}
